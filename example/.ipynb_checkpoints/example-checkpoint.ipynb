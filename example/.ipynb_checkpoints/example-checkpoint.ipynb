{
 "cells": [
  {
   "cell_type": "code",
   "execution_count": null,
   "metadata": {
    "collapsed": true
   },
   "outputs": [],
   "source": [
    "from falass import readwrite, job, sld, reflect, compare"
   ]
  },
  {
   "cell_type": "code",
   "execution_count": null,
   "metadata": {},
   "outputs": [],
   "source": [
    "# read in the pdb, lgt, and dat files\n",
    "# this paritcular simulation had the water at the bottom of the \n",
    "#simulation cell so it is necessary to flip the cell\n",
    "lipid_files = readwrite.Files('example.pdb', lgtfile='example.lgt', datfile='example.dat', flip=True)"
   ]
  },
  {
   "cell_type": "code",
   "execution_count": null,
   "metadata": {},
   "outputs": [],
   "source": [
    "# after defining the files above these lines will read them in\n",
    "lipid_files.read_pdb()\n",
    "lipid_files.read_lgt()\n",
    "lipid_files.read_dat()"
   ]
  },
  {
   "cell_type": "code",
   "execution_count": null,
   "metadata": {
    "collapsed": true
   },
   "outputs": [],
   "source": [
    "# these files are then defined within the job, along with the desired \n",
    "# layer thickness and cut-off\n",
    "lipid_job = job.Job(lipid_files, 1., 5.)"
   ]
  },
  {
   "cell_type": "code",
   "execution_count": null,
   "metadata": {},
   "outputs": [],
   "source": [
    "# the pdb and lgts files are compared to ensure that the all atom types in the \n",
    "# have a scattering length associated\n",
    "lipid_job.set_lgts()"
   ]
  },
  {
   "cell_type": "code",
   "execution_count": null,
   "metadata": {},
   "outputs": [],
   "source": [
    "# the job is then passed to the SLD class from which the SLD is calculated for\n",
    "# each timestep\n",
    "lipid_sld = sld.SLD(lipid_job)\n",
    "lipid_sld.get_sld_profile()\n",
    "lipid_sld.average_sld_profile()"
   ]
  },
  {
   "cell_type": "code",
   "execution_count": null,
   "metadata": {},
   "outputs": [],
   "source": [
    "# the SLD profile can be plotted\n",
    "lipid_sld.plot_sld_profile()"
   ]
  },
  {
   "cell_type": "code",
   "execution_count": null,
   "metadata": {
    "collapsed": true
   },
   "outputs": [],
   "source": [
    "# to get the reflectometry the sld profile is passed to the reflect class\n",
    "# along with the experimental data (from which the q-vectors are taken)\n",
    "lipid_reflect = reflect.Reflect(lipid_sld.sld_profile, lipid_files.expdata)"
   ]
  },
  {
   "cell_type": "code",
   "execution_count": null,
   "metadata": {},
   "outputs": [],
   "source": [
    "# the reflectometry is calculated for each timesteps and averaged\n",
    "lipid_reflect.calc_ref()\n",
    "lipid_reflect.average_ref()"
   ]
  },
  {
   "cell_type": "code",
   "execution_count": null,
   "metadata": {},
   "outputs": [],
   "source": [
    "# the calculated reflectivity can then be plotted\n",
    "lipid_reflect.plot_ref(rq4=False)"
   ]
  },
  {
   "cell_type": "code",
   "execution_count": null,
   "metadata": {
    "collapsed": true
   },
   "outputs": [],
   "source": [
    "# to compare with the experimental data we use the compare class, and define\n",
    "# starting scale and background values\n",
    "lipid_compare = compare.Compare(lipid_files.expdata, lipid_reflect.averagereflect, 1e-1, 1e-6)"
   ]
  },
  {
   "cell_type": "code",
   "execution_count": null,
   "metadata": {
    "collapsed": true
   },
   "outputs": [],
   "source": [
    "# the scale and background are fitted and the fitted, calculated reflectometry\n",
    "# data is returned\n",
    "lipid_compare.fit()\n",
    "lipid_compare.return_fitted()"
   ]
  },
  {
   "cell_type": "code",
   "execution_count": null,
   "metadata": {},
   "outputs": [],
   "source": [
    "# this can then be plotted\n",
    "lipid_compare.plot_compare()"
   ]
  },
  {
   "cell_type": "code",
   "execution_count": null,
   "metadata": {
    "collapsed": true
   },
   "outputs": [],
   "source": []
  },
  {
   "cell_type": "code",
   "execution_count": null,
   "metadata": {
    "collapsed": true
   },
   "outputs": [],
   "source": []
  }
 ],
 "metadata": {
  "kernelspec": {
   "display_name": "Python 3",
   "language": "python",
   "name": "python3"
  },
  "language_info": {
   "codemirror_mode": {
    "name": "ipython",
    "version": 3
   },
   "file_extension": ".py",
   "mimetype": "text/x-python",
   "name": "python",
   "nbconvert_exporter": "python",
   "pygments_lexer": "ipython3",
   "version": "3.6.1"
  }
 },
 "nbformat": 4,
 "nbformat_minor": 2
}
