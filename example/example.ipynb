{
 "cells": [
  {
   "cell_type": "code",
   "execution_count": 1,
   "metadata": {
    "collapsed": true
   },
   "outputs": [],
   "source": [
    "from falass import readwrite, job, sld, reflect, compare, analysis"
   ]
  },
  {
   "cell_type": "code",
   "execution_count": 11,
   "metadata": {
    "collapsed": true
   },
   "outputs": [],
   "source": [
    "# read in the pdb, lgt, and dat files\n",
    "# this paritcular simulation had the water at the bottom of the \n",
    "#simulation cell so it is necessary to flip the cell\n",
    "lipid_files = readwrite.Files('example.pdb', lgtfile='example.lgt', datfile='example.dat', flip=True)"
   ]
  },
  {
   "cell_type": "code",
   "execution_count": 12,
   "metadata": {},
   "outputs": [
    {
     "name": "stdout",
     "output_type": "stream",
     "text": [
      "Reading PDB file \n",
      "\n",
      "[ 0 % ]\n",
      "[# 10 % ]\n",
      "[## 20 % ]\n",
      "[### 30 % ]\n",
      "[#### 40 % ]\n",
      "[##### 50 % ]\n",
      "[###### 60 % ]\n",
      "[####### 70 % ]\n",
      "[######## 80 % ]\n",
      "[######### 90 % ]\n",
      "[########## 100 % ]\n",
      "Reading LGT file \n",
      "\n",
      "[ 0 % ]\n",
      "[# 10 % ]\n",
      "[## 20 % ]\n",
      "[### 30 % ]\n",
      "[#### 40 % ]\n",
      "[##### 50 % ]\n",
      "[###### 60 % ]\n",
      "[####### 70 % ]\n",
      "[######## 80 % ]\n",
      "[######### 90 % ]\n",
      "[########## 100 % ]\n",
      "Reading DAT file \n",
      "\n",
      "[ 0 % ]\n",
      "[# 10 % ]\n",
      "[## 20 % ]\n",
      "[### 30 % ]\n",
      "[#### 40 % ]\n",
      "[##### 50 % ]\n",
      "[###### 60 % ]\n",
      "[####### 70 % ]\n",
      "[######## 80 % ]\n",
      "[######### 90 % ]\n",
      "[########## 100 % ]\n"
     ]
    }
   ],
   "source": [
    "# after defining the files above these lines will read them in\n",
    "lipid_files.read_pdb()\n",
    "lipid_files.read_lgt()\n",
    "lipid_files.read_dat()"
   ]
  },
  {
   "cell_type": "code",
   "execution_count": 13,
   "metadata": {
    "collapsed": true
   },
   "outputs": [],
   "source": [
    "# these files are then defined within the job, along with the desired \n",
    "# layer thickness and cut-off\n",
    "lipid_job = job.Job(lipid_files, 1., 5.)"
   ]
  },
  {
   "cell_type": "code",
   "execution_count": 14,
   "metadata": {},
   "outputs": [
    {
     "name": "stdout",
     "output_type": "stream",
     "text": [
      "Setting atoms lengths \n",
      "\n",
      "[ 0 % ]\n",
      "[# 10 % ]\n",
      "[### 30 % ]\n",
      "[##### 50 % ]\n",
      "[###### 60 % ]\n",
      "[######## 80 % ]\n",
      "[########## 100 % ]\n"
     ]
    }
   ],
   "source": [
    "# the pdb and lgts files are compared to ensure that the all atom types in the \n",
    "# have a scattering length associated\n",
    "lipid_job.set_lgts()"
   ]
  },
  {
   "cell_type": "code",
   "execution_count": 15,
   "metadata": {},
   "outputs": [
    {
     "name": "stdout",
     "output_type": "stream",
     "text": [
      "Calculating SLD profile\n",
      "[ 0 % ]\n",
      "[# 10 % ]\n",
      "[## 20 % ]\n",
      "[### 30 % ]\n",
      "[#### 40 % ]\n",
      "[##### 50 % ]\n",
      "[###### 60 % ]\n",
      "[####### 70 % ]\n",
      "[######## 80 % ]\n",
      "[######### 90 % ]\n",
      "[########## 100 % ]\n",
      "Getting average SLD profile\n",
      "[ 0 % ]\n",
      "[# 10 % ]\n",
      "[## 20 % ]\n",
      "[### 30 % ]\n",
      "[#### 40 % ]\n",
      "[##### 50 % ]\n",
      "[###### 60 % ]\n",
      "[####### 70 % ]\n",
      "[######## 80 % ]\n",
      "[######### 90 % ]\n",
      "[########## 100 % ]\n"
     ]
    }
   ],
   "source": [
    "# the job is then passed to the SLD class from which the SLD is calculated for\n",
    "# each timestep\n",
    "lipid_sld = sld.SLD(lipid_job)\n",
    "lipid_sld.get_sld_profile()\n",
    "lipid_sld.average_sld_profile()"
   ]
  },
  {
   "cell_type": "code",
   "execution_count": 17,
   "metadata": {},
   "outputs": [
    {
     "data": {
      "image/png": "[encoded data removed]",
      "text/plain": [
       "<matplotlib.figure.Figure at 0x7fcd751569e8>"
      ]
     },
     "metadata": {},
     "output_type": "display_data"
    }
   ],
   "source": [
    "# the SLD profile can be plotted\n",
    "plt1 = lipid_sld.plot_sld_profile()\n",
    "plt1.show()"
   ]
  },
  {
   "cell_type": "code",
   "execution_count": 18,
   "metadata": {
    "collapsed": true
   },
   "outputs": [],
   "source": [
    "# to get the reflectometry the sld profile is passed to the reflect class\n",
    "# along with the experimental data (from which the q-vectors are taken)\n",
    "lipid_reflect = reflect.Reflect(lipid_sld.sld_profile, lipid_files.expdata)"
   ]
  },
  {
   "cell_type": "code",
   "execution_count": 19,
   "metadata": {},
   "outputs": [
    {
     "name": "stdout",
     "output_type": "stream",
     "text": [
      "Calculating reflectometry\n",
      "[ 0 % ]\n",
      "[# 10 % ]\n",
      "[### 30 % ]\n",
      "[##### 50 % ]\n",
      "[###### 60 % ]\n",
      "[######## 80 % ]\n",
      "[########## 100 % ]\n"
     ]
    }
   ],
   "source": [
    "# the reflectometry is calculated for each timesteps and averaged\n",
    "lipid_reflect.calc_ref()\n",
    "lipid_reflect.average_ref()"
   ]
  },
  {
   "cell_type": "code",
   "execution_count": 21,
   "metadata": {},
   "outputs": [
    {
     "data": {
      "image/png": "[encoded data removed]",
      "text/plain": [
       "<matplotlib.figure.Figure at 0x7fcd68a11978>"
      ]
     },
     "metadata": {},
     "output_type": "display_data"
    }
   ],
   "source": [
    "# the calculated reflectivity can then be plotted\n",
    "plt2 = lipid_reflect.plot_ref(rq4=False)\n",
    "plt2.show()"
   ]
  },
  {
   "cell_type": "code",
   "execution_count": 22,
   "metadata": {
    "collapsed": true
   },
   "outputs": [],
   "source": [
    "# to compare with the experimental data we use the compare class, and define\n",
    "# starting scale and background values\n",
    "lipid_compare = compare.Compare(lipid_files.expdata, lipid_reflect.averagereflect, 1e-1, 1e-6)"
   ]
  },
  {
   "cell_type": "code",
   "execution_count": 23,
   "metadata": {
    "collapsed": true
   },
   "outputs": [],
   "source": [
    "# the scale and background are fitted and the fitted, calculated reflectometry\n",
    "# data is returned\n",
    "lipid_compare.fit()\n",
    "lipid_compare.return_fitted()"
   ]
  },
  {
   "cell_type": "code",
   "execution_count": 25,
   "metadata": {},
   "outputs": [
    {
     "data": {
      "image/png": "[encoded data removed]",
      "text/plain": [
       "<matplotlib.figure.Figure at 0x7fcd689f04e0>"
      ]
     },
     "metadata": {},
     "output_type": "display_data"
    }
   ],
   "source": [
    "# this can then be plotted\n",
    "plt3 = lipid_compare.plot_compare()\n",
    "plt3.show()"
   ]
  },
  {
   "cell_type": "code",
   "execution_count": 28,
   "metadata": {
    "collapsed": true
   },
   "outputs": [],
   "source": []
  },
  {
   "cell_type": "code",
   "execution_count": null,
   "metadata": {
    "collapsed": true
   },
   "outputs": [],
   "source": []
  }
 ],
 "metadata": {
  "kernelspec": {
   "display_name": "Python 3",
   "language": "python",
   "name": "python3"
  },
  "language_info": {
   "codemirror_mode": {
    "name": "ipython",
    "version": 3
   },
   "file_extension": ".py",
   "mimetype": "text/x-python",
   "name": "python",
   "nbconvert_exporter": "python",
   "pygments_lexer": "ipython3",
   "version": "3.6.2"
  }
 },
 "nbformat": 4,
 "nbformat_minor": 2
}
